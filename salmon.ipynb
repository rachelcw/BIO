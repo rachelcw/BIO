{
 "cells": [
  {
   "cell_type": "code",
   "execution_count": 22,
   "metadata": {},
   "outputs": [
    {
     "name": "stdout",
     "output_type": "stream",
     "text": [
      "1\n"
     ]
    }
   ],
   "source": [
    "transcripts=[]\n",
    "transcripts.append(['ENST00000456328.2',0])\n",
    "transcripts.append(('ENST00000450305.2',0))\n",
    "transcripts[0][1]=transcripts[0][1]+1\n",
    "print(transcripts[0][1])"
   ]
  },
  {
   "cell_type": "code",
   "execution_count": 4,
   "metadata": {},
   "outputs": [
    {
     "name": "stdout",
     "output_type": "stream",
     "text": [
      "463\n"
     ]
    }
   ],
   "source": [
    "import pandas as pd\n",
    "reference_file_path_mut=\"/data01/private/projects/splicing_cll/results/proteomics/analysis.20230713/mutated_cll_sf3b1_proteomics_reference.txt\"\n",
    "reference_file_path_unmut=\"/data01/private/projects/splicing_cll/results/proteomics/analysis.20230713/unmutated_cll_sf3b1_proteomics_reference.txt\"\n",
    "reference_file_mut=pd.read_csv(reference_file_path_mut,sep='\\t',header=None,names=[\"chr\",\"start\",\"end\",\"strand\",\"ENST\",\"ENSG\"])\n",
    "reference_file_unmut=pd.read_csv(reference_file_path_unmut,sep='\\t',header=None,names=[\"chr\",\"start\",\"end\",\"strand\",\"ENST\",\"ENSG\"])\n",
    "reference_file=pd.concat([reference_file_mut,reference_file_unmut])\n",
    "reference_file.drop_duplicates(keep='first',inplace=True)\n",
    "print(len(reference_file[\"ENST\"].unique()))"
   ]
  },
  {
   "cell_type": "code",
   "execution_count": 17,
   "metadata": {},
   "outputs": [
    {
     "name": "stdout",
     "output_type": "stream",
     "text": [
      "[{'ID': 'rg1', 'SM': 'sm1'}]\n"
     ]
    }
   ],
   "source": [
    "import pysam\n",
    "\n",
    "bam_path = \"/data01/private/data/cllmap/data/rna/bams/DKFZ-CLL65.Aligned.sortedByCoord.out.bam\"  # Replace with your BAM file path\n",
    "\n",
    "# Open the BAM file\n",
    "with pysam.AlignmentFile(bam_path, \"rb\") as bam_file:\n",
    "    # for line in bam_file.head(10):\n",
    "    #     print(line)\n",
    "   \n",
    "    # get header information\n",
    "    # header = bam_file.header\n",
    "    # print(header)\n",
    "    # libraries = set()\n",
    "\n",
    "    # # get transcriptome information\n",
    "    # transcriptome = bam_file.references\n",
    "    # print(transcriptome)\n",
    "    print(bam_file.header.get(\"RG\"))\n",
    "    # # Iterate through the read groups in the header\n",
    "    # for rg_dict in bam_file.header.get(\"RG\", []):\n",
    "    #     print(rg_dict)\n",
    "\n",
    "    # # \n",
    "    # # Print the unique library IDs\n",
    "    # for library in libraries:\n",
    "    #     print(library)"
   ]
  },
  {
   "cell_type": "code",
   "execution_count": 8,
   "metadata": {},
   "outputs": [],
   "source": [
    "transcripts=[]\n",
    "with open(\"/home/ls/rachelcw/projects/salmon/transcriptome.fa\", \"r\") as f:\n",
    "    for line in f:\n",
    "        line=line.strip()\n",
    "        if line.startswith(\">\"):\n",
    "            transcript=line.split(\"|\")[1]\n",
    "            transcripts.append(transcript)\n",
    "\n",
    "\n",
    "# Read in the data\n"
   ]
  },
  {
   "cell_type": "code",
   "execution_count": 11,
   "metadata": {},
   "outputs": [
    {
     "name": "stdout",
     "output_type": "stream",
     "text": [
      "416 379\n"
     ]
    }
   ],
   "source": [
    "print(len(transcripts),len(set(transcripts)))"
   ]
  }
 ],
 "metadata": {
  "kernelspec": {
   "display_name": "pysam",
   "language": "python",
   "name": "python3"
  },
  "language_info": {
   "codemirror_mode": {
    "name": "ipython",
    "version": 3
   },
   "file_extension": ".py",
   "mimetype": "text/x-python",
   "name": "python",
   "nbconvert_exporter": "python",
   "pygments_lexer": "ipython3",
   "version": "3.7.12"
  },
  "orig_nbformat": 4
 },
 "nbformat": 4,
 "nbformat_minor": 2
}
