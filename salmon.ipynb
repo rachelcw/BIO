{
 "cells": [
  {
   "cell_type": "code",
   "execution_count": 1,
   "metadata": {},
   "outputs": [],
   "source": [
    "import os\n",
    "import pandas as pd"
   ]
  },
  {
   "cell_type": "code",
   "execution_count": 4,
   "metadata": {},
   "outputs": [],
   "source": [
    "\n",
    "input_dir = \"/private/data/cllmap/data/rna/bams/\"\n",
    "output_dir='/home/ls/rachelcw/projects/salmon/quant_results'\n",
    "fastq_done=[os.path.splitext(os.path.basename(f))[0] for f in os.listdir(output_dir) if f.endswith(\"_\")]\n",
    "fastq_done=[fastq.replace(r'_R1','') for fastq in fastq_done ]\n",
    "fastq_done=[fastq.replace(r'_R2','') for fastq in fastq_done ]\n",
    "fastq_done=set(fastq_done)\n"
   ]
  },
  {
   "cell_type": "code",
   "execution_count": 3,
   "metadata": {},
   "outputs": [],
   "source": [
    "read_count=pd.read_csv(\"/home/ls/rachelcw/projects/LEAFCUTTER/lc_20230512/lc_20230512_perind_numers.counts.gz\",compression='gzip',sep=\" \")\n"
   ]
  },
  {
   "cell_type": "code",
   "execution_count": 2,
   "metadata": {},
   "outputs": [],
   "source": [
    "output_dir='/home/ls/rachelcw/projects/salmon/quant_results'\n",
    "quant_files=[f for f in os.listdir(output_dir)  if f.endswith(\"_quant\")]\n",
    "sf_files=[f for f in quant_files for sf in os.listdir(os.path.join(output_dir,f)) if sf.endswith(\".sf\") ]"
   ]
  },
  {
   "cell_type": "code",
   "execution_count": 5,
   "metadata": {},
   "outputs": [],
   "source": [
    "bam_files = [f for f in os.listdir(input_dir) if f.endswith(\".bam\")]\n",
    "prefix_bam_files=[os.path.splitext(os.path.basename(f))[0].replace('.out','') for f in bam_files]\n",
    "quant_files=[f for f in os.listdir(output_dir)  if f.endswith(\"_quant\")]\n",
    "sf_files=[f for f in quant_files for sf in os.listdir(os.path.join(output_dir,f)) if sf.endswith(\".sf\") ]\n",
    "prefix_sf_files=[os.path.splitext(os.path.basename(f))[0] for f in sf_files]\n",
    "list_samples=[f'{s}.out.bam' for s in prefix_bam_files if s not in prefix_sf_files ]"
   ]
  },
  {
   "cell_type": "code",
   "execution_count": 6,
   "metadata": {},
   "outputs": [
    {
     "data": {
      "text/plain": [
       "'CRC-0001.Aligned.sortedByCoord.out.bam'"
      ]
     },
     "execution_count": 6,
     "metadata": {},
     "output_type": "execute_result"
    }
   ],
   "source": [
    "bam_files[0]"
   ]
  },
  {
   "cell_type": "code",
   "execution_count": 10,
   "metadata": {},
   "outputs": [
    {
     "data": {
      "text/plain": [
       "'GCLL-0004.Aligned.sortedByCoord.out.bam'"
      ]
     },
     "execution_count": 10,
     "metadata": {},
     "output_type": "execute_result"
    }
   ],
   "source": [
    "list_samples[1]"
   ]
  },
  {
   "cell_type": "code",
   "execution_count": 15,
   "metadata": {},
   "outputs": [],
   "source": [
    "groupfile=pd.read_csv(\"/home/ls/rachelcw/projects/LEAFCUTTER/DS/DS.five_percent/groups_file.analysis.20230108/groups_file_a2.txt\",sep=\"\\t\",header=None)"
   ]
  },
  {
   "cell_type": "code",
   "execution_count": 17,
   "metadata": {},
   "outputs": [],
   "source": [
    "samples=groupfile[0].to_list()"
   ]
  },
  {
   "cell_type": "code",
   "execution_count": 19,
   "metadata": {},
   "outputs": [],
   "source": [
    "sf_files=[sf.split('.')[0] for sf in sf_files]"
   ]
  },
  {
   "cell_type": "code",
   "execution_count": 20,
   "metadata": {},
   "outputs": [
    {
     "name": "stdout",
     "output_type": "stream",
     "text": [
      "['GCLL-0004', 'GCLL-0055', 'GCLL-0065', 'GCLL-0100', 'GCLL-0103', 'GCLL-0119', 'GCLL-0142', 'GCLL-0144', 'GCLL-0146', 'GCLL-0169', 'GCLL-0191', 'GCLL-0293', 'SCLL-0471', 'GCLL-0021', 'GCLL-0052', 'GCLL-0159', 'GCLL-0166', 'GCLL-0180', 'GCLL-0190', 'GCLL-0200', 'GCLL-0294', 'GCLL-0299']\n"
     ]
    }
   ],
   "source": [
    "not_both_list= [item for item in samples if item not in sf_files]\n",
    "print(not_both_list)"
   ]
  },
  {
   "cell_type": "code",
   "execution_count": 16,
   "metadata": {},
   "outputs": [],
   "source": [
    "bam_files = [b for b in os.listdir(input_dir)]"
   ]
  },
  {
   "cell_type": "code",
   "execution_count": 15,
   "metadata": {},
   "outputs": [],
   "source": [
    "bam_files = [f for f in os.listdir(input_dir) if f.endswith(\".bam\")]\n",
    "output_prefix = os.path.splitext(os.path.basename(bam_files[-1]))[0]\n",
    "fastq_prefix = os.path.join(output_dir, output_prefix)\n",
    "if output_prefix not in fastq_done:\n",
    "    print(output_prefix)"
   ]
  },
  {
   "cell_type": "code",
   "execution_count": 4,
   "metadata": {},
   "outputs": [
    {
     "name": "stdout",
     "output_type": "stream",
     "text": [
      "463\n"
     ]
    }
   ],
   "source": [
    "import pandas as pd\n",
    "reference_file_path_mut=\"/data01/private/projects/splicing_cll/results/proteomics/analysis.20230713/mutated_cll_sf3b1_proteomics_reference.txt\"\n",
    "reference_file_path_unmut=\"/data01/private/projects/splicing_cll/results/proteomics/analysis.20230713/unmutated_cll_sf3b1_proteomics_reference.txt\"\n",
    "reference_file_mut=pd.read_csv(reference_file_path_mut,sep='\\t',header=None,names=[\"chr\",\"start\",\"end\",\"strand\",\"ENST\",\"ENSG\"])\n",
    "reference_file_unmut=pd.read_csv(reference_file_path_unmut,sep='\\t',header=None,names=[\"chr\",\"start\",\"end\",\"strand\",\"ENST\",\"ENSG\"])\n",
    "reference_file=pd.concat([reference_file_mut,reference_file_unmut])\n",
    "reference_file.drop_duplicates(keep='first',inplace=True)\n",
    "print(len(reference_file[\"ENST\"].unique()))"
   ]
  },
  {
   "cell_type": "code",
   "execution_count": 17,
   "metadata": {},
   "outputs": [
    {
     "name": "stdout",
     "output_type": "stream",
     "text": [
      "[{'ID': 'rg1', 'SM': 'sm1'}]\n"
     ]
    }
   ],
   "source": [
    "import pysam\n",
    "\n",
    "bam_path = \"/data01/private/data/cllmap/data/rna/bams/DKFZ-CLL65.Aligned.sortedByCoord.out.bam\"  # Replace with your BAM file path\n",
    "\n",
    "# Open the BAM file\n",
    "with pysam.AlignmentFile(bam_path, \"rb\") as bam_file:\n",
    "    # for line in bam_file.head(10):\n",
    "    #     print(line)\n",
    "   \n",
    "    # get header information\n",
    "    # header = bam_file.header\n",
    "    # print(header)\n",
    "    # libraries = set()\n",
    "\n",
    "    # # get transcriptome information\n",
    "    # transcriptome = bam_file.references\n",
    "    # print(transcriptome)\n",
    "    print(bam_file.header.get(\"RG\"))\n",
    "    # # Iterate through the read groups in the header\n",
    "    # for rg_dict in bam_file.header.get(\"RG\", []):\n",
    "    #     print(rg_dict)\n",
    "\n",
    "    # # \n",
    "    # # Print the unique library IDs\n",
    "    # for library in libraries:\n",
    "    #     print(library)"
   ]
  },
  {
   "cell_type": "code",
   "execution_count": 8,
   "metadata": {},
   "outputs": [],
   "source": [
    "transcripts=[]\n",
    "with open(\"/home/ls/rachelcw/projects/salmon/transcriptome.fa\", \"r\") as f:\n",
    "    for line in f:\n",
    "        line=line.strip()\n",
    "        if line.startswith(\">\"):\n",
    "            transcript=line.split(\"|\")[1]\n",
    "            transcripts.append(transcript)\n",
    "\n",
    "\n",
    "# Read in the data\n"
   ]
  },
  {
   "cell_type": "code",
   "execution_count": 11,
   "metadata": {},
   "outputs": [
    {
     "name": "stdout",
     "output_type": "stream",
     "text": [
      "416 379\n"
     ]
    }
   ],
   "source": [
    "print(len(transcripts),len(set(transcripts)))"
   ]
  }
 ],
 "metadata": {
  "kernelspec": {
   "display_name": "pysam",
   "language": "python",
   "name": "python3"
  },
  "language_info": {
   "codemirror_mode": {
    "name": "ipython",
    "version": 3
   },
   "file_extension": ".py",
   "mimetype": "text/x-python",
   "name": "python",
   "nbconvert_exporter": "python",
   "pygments_lexer": "ipython3",
   "version": "3.7.12"
  },
  "orig_nbformat": 4
 },
 "nbformat": 4,
 "nbformat_minor": 2
}
