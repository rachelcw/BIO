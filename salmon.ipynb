{
 "cells": [
  {
   "cell_type": "code",
   "execution_count": 1,
   "metadata": {},
   "outputs": [],
   "source": [
    "import os\n",
    "import pandas as pd"
   ]
  },
  {
   "cell_type": "code",
   "execution_count": 3,
   "metadata": {},
   "outputs": [],
   "source": [
    "read_count=pd.read_csv(\"/home/ls/rachelcw/projects/LEAFCUTTER/lc_20230512/lc_20230512_perind_numers.counts.gz\",compression='gzip',sep=\" \")\n"
   ]
  },
  {
   "cell_type": "code",
   "execution_count": 2,
   "metadata": {},
   "outputs": [],
   "source": [
    "output_dir='/home/ls/rachelcw/projects/salmon/quant_results'\n",
    "quant_files=[f for f in os.listdir(output_dir)  if f.endswith(\"_quant\")]\n",
    "sf_files=[f for f in quant_files for sf in os.listdir(os.path.join(output_dir,f)) if sf.endswith(\".sf\") ]\n",
    "full_path_quant_files = [os.path.join(output_dir,f) for f in quant_files]"
   ]
  },
  {
   "cell_type": "markdown",
   "metadata": {},
   "source": [
    "\n",
    "Agreggate the numReads for each sample to count read table"
   ]
  },
  {
   "cell_type": "code",
   "execution_count": 76,
   "metadata": {},
   "outputs": [],
   "source": [
    "# List of sample names\n",
    "# full_path_quant_files = [os.path.join(output_dir,f) for f in quant_files]\n",
    "\n",
    "# Initialize an empty dictionary to store junction information\n",
    "junctions_data = {}\n",
    "parameters=['Name','Length','EffectiveLength','TPM','NumReads']\n",
    "# Loop through each sample\n",
    "for quant_file in full_path_quant_files:\n",
    "    quant_file_sf = f\"{quant_file}/quant.sf\"  # Path to the quant.sf file for the sample\n",
    "    \n",
    "    # Read the quant.sf file into a Pandas DataFrame\n",
    "    quant_data = pd.read_csv(quant_file_sf, sep=\"\\t\", usecols=[parameters[0], parameters[3]])\n",
    "    # Extract the sample name from the file path\n",
    "    sample_name = quant_file.split(\"/\")[-1].split(\".\")[0]\n",
    "    # Store the junction abundance in the dictionary\n",
    "    junctions_data[sample_name] = quant_data.set_index(parameters[0])[parameters[3]]\n",
    "\n",
    "# Create a Pandas DataFrame from the junctions_data dictionary\n",
    "aggregated_table = pd.DataFrame(junctions_data)\n",
    "aggregated_table.rename_axis(\"transcript_id\", inplace=True)\n",
    "\n",
    "# Save the aggregated table to a CSV file\n",
    "# aggregated_table.to_csv(\"/home/ls/rachelcw/projects/salmon/all_sample_countreads_table.csv\")\n"
   ]
  },
  {
   "cell_type": "markdown",
   "metadata": {},
   "source": [
    "counts reads of GCLL samples from proteomics cohort"
   ]
  },
  {
   "cell_type": "code",
   "execution_count": 77,
   "metadata": {},
   "outputs": [],
   "source": [
    "# table of only GCLL samples- columns name contain GCLL\n",
    "gcll_table=aggregated_table[aggregated_table.columns[aggregated_table.columns.str.contains('GCLL')]]"
   ]
  },
  {
   "cell_type": "code",
   "execution_count": 78,
   "metadata": {},
   "outputs": [],
   "source": [
    "\n",
    "gcll_proteomics=pd.read_csv(\"/data01/private/projects/splicing_cll/results/proteomics/all_sample_ids_concise - Sheet1.csv\",usecols=[\"participant_id\",\"dfci_sample_id\"])\n",
    "dict_gcll_proteomics=dict(zip(gcll_proteomics[\"dfci_sample_id\"],gcll_proteomics[\"participant_id\"]))\n",
    "\n",
    "gcll_list=gcll_proteomics[\"participant_id\"].tolist()\n",
    "\n",
    "gcll_table_list=gcll_table.columns.tolist()\n"
   ]
  },
  {
   "cell_type": "code",
   "execution_count": 54,
   "metadata": {},
   "outputs": [
    {
     "data": {
      "text/plain": [
       "139"
      ]
     },
     "execution_count": 54,
     "metadata": {},
     "output_type": "execute_result"
    }
   ],
   "source": [
    "len(set(gcll_table_list))\n",
    "len(set(gcll_list))"
   ]
  },
  {
   "cell_type": "code",
   "execution_count": 79,
   "metadata": {},
   "outputs": [],
   "source": [
    "gcll_table.columns=[dict_gcll_proteomics[x] if x in dict_gcll_proteomics else x for x in gcll_table.columns]"
   ]
  },
  {
   "cell_type": "code",
   "execution_count": 80,
   "metadata": {},
   "outputs": [],
   "source": [
    "# filter gcll table to only include samples that are in the proteomics data\n",
    "# gcll_intersect=list(set(gcll_list).intersection(gcll_table_list))\n",
    "\n",
    "gcll_proteomics_table=gcll_table[gcll_table.columns[gcll_table.columns.isin(gcll_list)]]\n",
    " \n"
   ]
  },
  {
   "cell_type": "code",
   "execution_count": 74,
   "metadata": {},
   "outputs": [],
   "source": [
    "# all(gcll_proteomics_table.columns.isin(gcll_list))\n",
    "gcll_proteomics_table.to_csv(\"/home/ls/rachelcw/projects/salmon/gcll_proteomics_TPM_table.csv\")"
   ]
  },
  {
   "cell_type": "code",
   "execution_count": 37,
   "metadata": {},
   "outputs": [],
   "source": [
    "# intersect between gcll list and gcll table list\n",
    "gcll_intersect=list(set(gcll_list).intersection(gcll_table_list))\n"
   ]
  },
  {
   "cell_type": "code",
   "execution_count": 38,
   "metadata": {},
   "outputs": [
    {
     "data": {
      "text/plain": [
       "119"
      ]
     },
     "execution_count": 38,
     "metadata": {},
     "output_type": "execute_result"
    }
   ],
   "source": [
    "len(set(gcll_both))"
   ]
  },
  {
   "cell_type": "code",
   "execution_count": 23,
   "metadata": {},
   "outputs": [],
   "source": [
    "# samples in proteomics but not in table-salmon quant results\n",
    "gcll_proteomics_samples_not_quant=[s for s in gcll_list if s not in gcll_table_list]\n",
    "# samples in proteomics and in table-salmon quant results\n",
    "gcll_proteomics_samples_quant=[s for s in gcll_list if s in gcll_table_list]"
   ]
  },
  {
   "cell_type": "code",
   "execution_count": 30,
   "metadata": {},
   "outputs": [],
   "source": [
    "gcll_new_bams=[f.split('.')[0] for f in os.listdir(\"/data01/private/data/cllmap/rnaseq/bams_cll11/\") if f.endswith(\".bam\")]\n",
    "gcll_new_bams_names=set([dict_gcll_proteomics[f] for f in gcll_new_bams if f in dict_gcll_proteomics.keys()])\n",
    "gcll_proteomics_in_new_bams=[f for f in gcll_proteomics_samples_not_quant if f in gcll_new_bams_names]\n",
    "# gcll samples in proteomics but dont have bam files\n",
    "gcll_proteomics_no_bam=set([f for f in gcll_proteomics_samples_not_quant if f not in gcll_new_bams_names and f in gcll_list and f not in gcll_table_list ])\n",
    "# with open(\"/home/ls/rachelcw/projects/salmon/gcll_proteomics_no_bam.txt\", \"w\") as output:\n",
    "#     output.write(\",\".join(gcll_proteomics_no_bam))\n"
   ]
  },
  {
   "cell_type": "code",
   "execution_count": 35,
   "metadata": {},
   "outputs": [],
   "source": [
    "gcll_proteomics_bam_not_quant=set([f for f in gcll_new_bams_names if f in gcll_list and f not in gcll_table_list ])\n",
    "with open(\"/home/ls/rachelcw/projects/salmon/gcll_proteomics_bam_not_quant.txt\", \"w\") as output:\n",
    "    output.write(\",\".join(gcll_proteomics_bam_not_quant))\n",
    "# gcll_new_bams_names_quant=[f for f in gcll_new_bams_names if f in gcll_table_list]\n",
    "# gcll_new_bams_names_not_quant=[f for f in gcll_new_bams_names if f not in gcll_table_list]"
   ]
  },
  {
   "cell_type": "code",
   "execution_count": 36,
   "metadata": {},
   "outputs": [
    {
     "name": "stdout",
     "output_type": "stream",
     "text": [
      "{'GCLL-0379', 'GCLL-0390', 'GCLL-0386', 'GCLL-0374', 'GCLL-0377', 'GCLL-0381', 'GCLL-0257', 'GCLL-0385', 'GCLL-0380', 'GCLL-0394', 'GCLL-0382', 'GCLL-0388', 'GCLL-0391', 'GCLL-0392', 'GCLL-0383', 'GCLL-0395', 'GCLL-0387', 'GCLL-0393', 'GCLL-0236', 'GCLL-0384', 'GCLL-0378', 'GCLL-0375', 'GCLL-0396', 'GCLL-0376'}\n"
     ]
    }
   ],
   "source": [
    "print(gcll_proteomics_bam_not_quant)"
   ]
  },
  {
   "cell_type": "code",
   "execution_count": 5,
   "metadata": {},
   "outputs": [],
   "source": [
    "bam_files = [f for f in os.listdir(input_dir) if f.endswith(\".bam\")]\n",
    "prefix_bam_files=[os.path.splitext(os.path.basename(f))[0].replace('.out','') for f in bam_files]\n",
    "quant_files=[f for f in os.listdir(output_dir)  if f.endswith(\"_quant\")]\n",
    "sf_files=[f for f in quant_files for sf in os.listdir(os.path.join(output_dir,f)) if sf.endswith(\".sf\") ]\n",
    "prefix_sf_files=[os.path.splitext(os.path.basename(f))[0] for f in sf_files]\n",
    "list_samples=[f'{s}.out.bam' for s in prefix_bam_files if s not in prefix_sf_files ]"
   ]
  },
  {
   "cell_type": "code",
   "execution_count": 15,
   "metadata": {},
   "outputs": [],
   "source": [
    "groupfile=pd.read_csv(\"/home/ls/rachelcw/projects/LEAFCUTTER/DS/DS.five_percent/groups_file.analysis.20230108/groups_file_a2.txt\",sep=\"\\t\",header=None)"
   ]
  },
  {
   "cell_type": "code",
   "execution_count": 19,
   "metadata": {},
   "outputs": [],
   "source": [
    "sf_files=[sf.split('.')[0] for sf in sf_files]"
   ]
  },
  {
   "cell_type": "code",
   "execution_count": 20,
   "metadata": {},
   "outputs": [
    {
     "name": "stdout",
     "output_type": "stream",
     "text": [
      "['GCLL-0004', 'GCLL-0055', 'GCLL-0065', 'GCLL-0100', 'GCLL-0103', 'GCLL-0119', 'GCLL-0142', 'GCLL-0144', 'GCLL-0146', 'GCLL-0169', 'GCLL-0191', 'GCLL-0293', 'SCLL-0471', 'GCLL-0021', 'GCLL-0052', 'GCLL-0159', 'GCLL-0166', 'GCLL-0180', 'GCLL-0190', 'GCLL-0200', 'GCLL-0294', 'GCLL-0299']\n"
     ]
    }
   ],
   "source": [
    "not_both_list= [item for item in samples if item not in sf_files]\n",
    "print(not_both_list)"
   ]
  },
  {
   "cell_type": "code",
   "execution_count": 16,
   "metadata": {},
   "outputs": [],
   "source": [
    "bam_files = [b for b in os.listdir(input_dir)]"
   ]
  },
  {
   "cell_type": "code",
   "execution_count": 15,
   "metadata": {},
   "outputs": [],
   "source": [
    "bam_files = [f for f in os.listdir(input_dir) if f.endswith(\".bam\")]\n",
    "output_prefix = os.path.splitext(os.path.basename(bam_files[-1]))[0]\n",
    "fastq_prefix = os.path.join(output_dir, output_prefix)\n",
    "if output_prefix not in fastq_done:\n",
    "    print(output_prefix)"
   ]
  },
  {
   "cell_type": "code",
   "execution_count": 4,
   "metadata": {},
   "outputs": [
    {
     "name": "stdout",
     "output_type": "stream",
     "text": [
      "463\n"
     ]
    }
   ],
   "source": [
    "import pandas as pd\n",
    "reference_file_path_mut=\"/data01/private/projects/splicing_cll/results/proteomics/analysis.20230713/mutated_cll_sf3b1_proteomics_reference.txt\"\n",
    "reference_file_path_unmut=\"/data01/private/projects/splicing_cll/results/proteomics/analysis.20230713/unmutated_cll_sf3b1_proteomics_reference.txt\"\n",
    "reference_file_mut=pd.read_csv(reference_file_path_mut,sep='\\t',header=None,names=[\"chr\",\"start\",\"end\",\"strand\",\"ENST\",\"ENSG\"])\n",
    "reference_file_unmut=pd.read_csv(reference_file_path_unmut,sep='\\t',header=None,names=[\"chr\",\"start\",\"end\",\"strand\",\"ENST\",\"ENSG\"])\n",
    "reference_file=pd.concat([reference_file_mut,reference_file_unmut])\n",
    "reference_file.drop_duplicates(keep='first',inplace=True)\n",
    "print(len(reference_file[\"ENST\"].unique()))"
   ]
  },
  {
   "cell_type": "code",
   "execution_count": 17,
   "metadata": {},
   "outputs": [
    {
     "name": "stdout",
     "output_type": "stream",
     "text": [
      "[{'ID': 'rg1', 'SM': 'sm1'}]\n"
     ]
    }
   ],
   "source": [
    "import pysam\n",
    "\n",
    "bam_path = \"/data01/private/data/cllmap/data/rna/bams/DKFZ-CLL65.Aligned.sortedByCoord.out.bam\"  # Replace with your BAM file path\n",
    "\n",
    "# Open the BAM file\n",
    "with pysam.AlignmentFile(bam_path, \"rb\") as bam_file:\n",
    "    # for line in bam_file.head(10):\n",
    "    #     print(line)\n",
    "   \n",
    "    # get header information\n",
    "    # header = bam_file.header\n",
    "    # print(header)\n",
    "    # libraries = set()\n",
    "\n",
    "    # # get transcriptome information\n",
    "    # transcriptome = bam_file.references\n",
    "    # print(transcriptome)\n",
    "    print(bam_file.header.get(\"RG\"))\n",
    "    # # Iterate through the read groups in the header\n",
    "    # for rg_dict in bam_file.header.get(\"RG\", []):\n",
    "    #     print(rg_dict)\n",
    "\n",
    "    # # \n",
    "    # # Print the unique library IDs\n",
    "    # for library in libraries:\n",
    "    #     print(library)"
   ]
  },
  {
   "cell_type": "code",
   "execution_count": 8,
   "metadata": {},
   "outputs": [],
   "source": [
    "transcripts=[]\n",
    "with open(\"/home/ls/rachelcw/projects/salmon/transcriptome.fa\", \"r\") as f:\n",
    "    for line in f:\n",
    "        line=line.strip()\n",
    "        if line.startswith(\">\"):\n",
    "            transcript=line.split(\"|\")[1]\n",
    "            transcripts.append(transcript)\n",
    "# Read in the data\n"
   ]
  },
  {
   "cell_type": "code",
   "execution_count": 11,
   "metadata": {},
   "outputs": [
    {
     "name": "stdout",
     "output_type": "stream",
     "text": [
      "416 379\n"
     ]
    }
   ],
   "source": [
    "print(len(transcripts),len(set(transcripts)))"
   ]
  }
 ],
 "metadata": {
  "kernelspec": {
   "display_name": "pysam",
   "language": "python",
   "name": "python3"
  },
  "language_info": {
   "codemirror_mode": {
    "name": "ipython",
    "version": 3
   },
   "file_extension": ".py",
   "mimetype": "text/x-python",
   "name": "python",
   "nbconvert_exporter": "python",
   "pygments_lexer": "ipython3",
   "version": "3.7.12"
  },
  "orig_nbformat": 4
 },
 "nbformat": 4,
 "nbformat_minor": 2
}
